{
  "nbformat": 4,
  "nbformat_minor": 0,
  "metadata": {
    "colab": {
      "name": "assignment_3.ipynb",
      "provenance": []
    },
    "kernelspec": {
      "name": "python3",
      "display_name": "Python 3"
    },
    "language_info": {
      "name": "python"
    }
  },
  "cells": [
    {
      "cell_type": "markdown",
      "source": [
        "1. Why are functions advantageous to have in your programs?"
      ],
      "metadata": {
        "id": "9MLOD72U6qiu"
      }
    },
    {
      "cell_type": "markdown",
      "source": [
        "Advantages\n",
        "\n",
        "1. Increase code reusability\n",
        "2. reduce code complexity\n",
        "3. To make coding simple and understandable"
      ],
      "metadata": {
        "id": "vPudXS3U6sZ5"
      }
    },
    {
      "cell_type": "markdown",
      "source": [
        "2. When does the code in a function run: when it&#39;s specified or when it&#39;s called?"
      ],
      "metadata": {
        "id": "nJfPFjoO6shg"
      }
    },
    {
      "cell_type": "markdown",
      "source": [
        "When it's called"
      ],
      "metadata": {
        "id": "mCe7CmuQ6sk4"
      }
    },
    {
      "cell_type": "markdown",
      "source": [
        "3. What statement creates a function?"
      ],
      "metadata": {
        "id": "L4vT0rIZ6sn5"
      }
    },
    {
      "cell_type": "markdown",
      "source": [
        "def\n",
        "\n",
        "for ex. def myfunction()"
      ],
      "metadata": {
        "id": "-HKHcqxo6sq8"
      }
    },
    {
      "cell_type": "markdown",
      "source": [
        "4. What is the difference between a function and a function call?\n"
      ],
      "metadata": {
        "id": "v8GGn4RK6suy"
      }
    },
    {
      "cell_type": "markdown",
      "source": [
        "In function, we define code that we want to execute whereas,\n",
        "fuction call means run or execute that code."
      ],
      "metadata": {
        "id": "BCBknR9L6syV"
      }
    },
    {
      "cell_type": "markdown",
      "source": [
        "5. How many global scopes are there in a Python program? How many local scopes?"
      ],
      "metadata": {
        "id": "m3n1-u2B6s1w"
      }
    },
    {
      "cell_type": "markdown",
      "source": [
        "There is only one global scope is in python.\n",
        "\n",
        "As there is no limit infinite number of local scopes are possible."
      ],
      "metadata": {
        "id": "OztiQa1j6s6c"
      }
    },
    {
      "cell_type": "markdown",
      "source": [
        "6. What happens to variables in a local scope when the function call returns?"
      ],
      "metadata": {
        "id": "Ko64JXuB6tCH"
      }
    },
    {
      "cell_type": "markdown",
      "source": [
        "It outputs the value of tht variable in the local scope."
      ],
      "metadata": {
        "id": "KOSIg5I66tFr"
      }
    },
    {
      "cell_type": "markdown",
      "source": [
        "7. What is the concept of a return value? Is it possible to have a return value in an expression?"
      ],
      "metadata": {
        "id": "JJuUiFxi6tIn"
      }
    },
    {
      "cell_type": "markdown",
      "source": [
        "when function called it return or shows value in the output.\n",
        "\n",
        "yes, it's possible to return value in expression."
      ],
      "metadata": {
        "id": "EYeU8Nw26tMc"
      }
    },
    {
      "cell_type": "markdown",
      "source": [
        "8. If a function does not have a return statement, what is the return value of a call to that function?"
      ],
      "metadata": {
        "id": "LqREisOGr5Ow"
      }
    },
    {
      "cell_type": "markdown",
      "source": [
        "it returns none"
      ],
      "metadata": {
        "id": "eXASRdv9r5LY"
      }
    },
    {
      "cell_type": "markdown",
      "source": [
        "9. How do you make a function variable refer to the global variable?"
      ],
      "metadata": {
        "id": "HVxc0wVXr5Ht"
      }
    },
    {
      "cell_type": "markdown",
      "source": [
        "using a \"global\" keyword"
      ],
      "metadata": {
        "id": "3k0kuVyZr5EZ"
      }
    },
    {
      "cell_type": "markdown",
      "source": [
        "10. What is the data type of None?"
      ],
      "metadata": {
        "id": "Wxm4pO_gr5BM"
      }
    },
    {
      "cell_type": "markdown",
      "source": [
        "NoneType"
      ],
      "metadata": {
        "id": "ucxwazpSswDv"
      }
    },
    {
      "cell_type": "markdown",
      "source": [
        "11. What does the sentence import areallyourpetsnamederic do?"
      ],
      "metadata": {
        "id": "35j4r3Jpr49o"
      }
    },
    {
      "cell_type": "markdown",
      "source": [
        "It imports library named areallyourpetsnamederic. \n",
        "\n",
        "As there is no library or package with such name so it shows error."
      ],
      "metadata": {
        "id": "n2pksvTXr442"
      }
    },
    {
      "cell_type": "markdown",
      "source": [
        "12. If you had a bacon() feature in a spam module, what would you call it after importing spam?"
      ],
      "metadata": {
        "id": "ctOAxEu6r414"
      }
    },
    {
      "cell_type": "markdown",
      "source": [
        "spam.bacon()"
      ],
      "metadata": {
        "id": "X30kQEdhr4y1"
      }
    },
    {
      "cell_type": "markdown",
      "source": [
        "13. What can you do to save a programme from crashing if it encounters an error?"
      ],
      "metadata": {
        "id": "xHs5Z6Zfr4ve"
      }
    },
    {
      "cell_type": "markdown",
      "source": [
        "I can use exception handling by using try and except clause."
      ],
      "metadata": {
        "id": "gMkkzg8Wr4r5"
      }
    },
    {
      "cell_type": "markdown",
      "source": [
        "14. What is the purpose of the try clause? What is the purpose of the except clause?"
      ],
      "metadata": {
        "id": "krHJpvsbvxBR"
      }
    },
    {
      "cell_type": "markdown",
      "source": [
        "Try clouse is use to catch the error and except clause is use for handling that error. "
      ],
      "metadata": {
        "id": "B9-nbMwsv8SW"
      }
    }
  ]
}