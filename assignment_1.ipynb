{
  "nbformat": 4,
  "nbformat_minor": 0,
  "metadata": {
    "colab": {
      "name": "assignment_1.ipynb",
      "provenance": [],
      "collapsed_sections": []
    },
    "kernelspec": {
      "name": "python3",
      "display_name": "Python 3"
    },
    "language_info": {
      "name": "python"
    }
  },
  "cells": [
    {
      "cell_type": "markdown",
      "source": [
        "1. In the below elements which of them are values or an expression? eg:- values can be\n",
        "integer or string and expressions will be mathematical operators.\n",
        "  \n",
        "  *\n",
        "\n",
        "  -87.8\n",
        "\n",
        "  -\n",
        "\n",
        "  /\n",
        "\n",
        "  +\n",
        "  \n",
        "  6"
      ],
      "metadata": {
        "id": "BDbzfiI3uPCP"
      }
    },
    {
      "cell_type": "markdown",
      "source": [
        "    * -> multiplication Oprater \n",
        "    'hello' -> String value\n",
        "    -87.8 -> float value\n",
        "    - -> minus oprater\n",
        "    / -> Devision oprater\n",
        "    + -> sum oprater\n",
        "    6 -> integer value"
      ],
      "metadata": {
        "id": "QkcE8xNiu9KG"
      }
    },
    {
      "cell_type": "markdown",
      "source": [
        "2. What is the difference between string and variable?"
      ],
      "metadata": {
        "id": "M-0zovnuvY0u"
      }
    },
    {
      "cell_type": "markdown",
      "source": [
        "    String is a variable type whereas, variable can be use for holding any type of value for ex. string, integer, float"
      ],
      "metadata": {
        "id": "i9irf4JzwYtW"
      }
    },
    {
      "cell_type": "markdown",
      "source": [
        "3. Describe three different data types."
      ],
      "metadata": {
        "id": "L6jaKXUqwxfe"
      }
    },
    {
      "cell_type": "markdown",
      "source": [
        "    1. String\n",
        "    2. list\n",
        "    3. integer\n",
        "    4. tuple"
      ],
      "metadata": {
        "id": "Ht77YwcExE5D"
      }
    },
    {
      "cell_type": "markdown",
      "source": [
        "4. What is an expression made up of? What do all expressions do?"
      ],
      "metadata": {
        "id": "a5Lbg_hcxRr_"
      }
    },
    {
      "cell_type": "markdown",
      "source": [
        "    Expression are made of oprators. Which are used to perform diffrent \n",
        "    kind of opration on variable and it retuen some kind of value for ex. \n",
        "\n",
        "    m = 10\n",
        "    m = 15\n",
        "\n",
        "    expression => m+n returns 25 \n"
      ],
      "metadata": {
        "id": "3-3B40PMxWTk"
      }
    },
    {
      "cell_type": "markdown",
      "source": [
        "5. This assignment statements, like spam = 10. What is the difference between an\n",
        "expression and a statement?"
      ],
      "metadata": {
        "id": "hhtw8tTpx-zW"
      }
    },
    {
      "cell_type": "markdown",
      "source": [
        "    Expression return some kind of values whereas, statements doesn't \n",
        "    return any value for ex. spam = 10 is statement which assign 10 to spam \n",
        "    but not return anything. "
      ],
      "metadata": {
        "id": "PERAtZUFyF9J"
      }
    },
    {
      "cell_type": "markdown",
      "source": [
        "6. After running the following code, what does the variable bacon contain?\n",
        "\n",
        "  bacon = 22\n",
        "\n",
        "  bacon + 1"
      ],
      "metadata": {
        "id": "t8BwzI0azSKl"
      }
    },
    {
      "cell_type": "markdown",
      "source": [
        "    we have not done reassignment opration so, value will be the same 22."
      ],
      "metadata": {
        "id": "MJEW_ZAxz1Ro"
      }
    },
    {
      "cell_type": "markdown",
      "source": [
        "7. What should the values of the following two terms be?\n",
        "  \n",
        "  'spam' + 'spamspam'\n",
        "\n",
        "  'spam'*3"
      ],
      "metadata": {
        "id": "TuffBvJf0A8h"
      }
    },
    {
      "cell_type": "markdown",
      "source": [
        "    Both will return same output => 'spamspamspam'"
      ],
      "metadata": {
        "id": "dO0tPqxu1SEA"
      }
    },
    {
      "cell_type": "markdown",
      "source": [
        "8. Why is eggs a valid variable name while 100 is invalid?"
      ],
      "metadata": {
        "id": "IQ9ZlZm41a7_"
      }
    },
    {
      "cell_type": "markdown",
      "source": [
        "    As per python variable name constraints python doesn't allow to start the\n",
        "    name with numbers so, 100 is invalid and eggs is valid."
      ],
      "metadata": {
        "id": "G4UPXQwC3PHB"
      }
    },
    {
      "cell_type": "markdown",
      "source": [
        "9. What three functions can be used to get the integer, floating-point number, or string\n",
        "version of a value?"
      ],
      "metadata": {
        "id": "li1HXYaq-iSF"
      }
    },
    {
      "cell_type": "markdown",
      "source": [
        "    1. int()\n",
        "    2. float()\n",
        "    3. str()"
      ],
      "metadata": {
        "id": "CilohdJA-mDl"
      }
    },
    {
      "cell_type": "markdown",
      "source": [
        "10. Why does this expression cause an error? How can you fix it?\n",
        "\n",
        "  'I have eaten' + 99 + 'burritos.'"
      ],
      "metadata": {
        "id": "TQCYiYo6--VR"
      }
    },
    {
      "cell_type": "markdown",
      "source": [
        "    here 'I have eaten' and 'burritos.' is String but 99 is integer and \n",
        "    it's not possible to concate two different data types.\n",
        "\n",
        "    sol: 'I have eaten' + '99' + 'burritos.'"
      ],
      "metadata": {
        "id": "ZUjbMT8B_Uf3"
      }
    }
  ]
}