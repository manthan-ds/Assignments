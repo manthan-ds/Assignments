{
  "nbformat": 4,
  "nbformat_minor": 0,
  "metadata": {
    "colab": {
      "name": "assignment_4.ipynb",
      "provenance": [],
      "collapsed_sections": []
    },
    "kernelspec": {
      "name": "python3",
      "display_name": "Python 3"
    },
    "language_info": {
      "name": "python"
    }
  },
  "cells": [
    {
      "cell_type": "markdown",
      "source": [
        "1. What exactly is []?\n",
        "\n",
        "In python big brackets ([]) are used for list. which contain group of items."
      ],
      "metadata": {
        "id": "GKiPvbwpzfW4"
      }
    },
    {
      "cell_type": "markdown",
      "source": [
        "2. In a list of values stored in a variable called spam, how would you assign the value 'hello' as the third value? (Assume [2, 4, 6, 8, 10] are in spam.)\n",
        "\n",
        "spam[2] = 'hello'"
      ],
      "metadata": {
        "id": "cRFBmYgDzfl_"
      }
    },
    {
      "cell_type": "markdown",
      "source": [
        "3. What is the value of spam[int(int('3' * 2) / 11)]?\n",
        "\n",
        "It will print 'd'"
      ],
      "metadata": {
        "id": "SNkAVe73zft_"
      }
    },
    {
      "cell_type": "markdown",
      "source": [
        "4. What is the value of spam[-1]?\n",
        "\n",
        "it will be 10"
      ],
      "metadata": {
        "id": "ZFiGfCQ4zfxI"
      }
    },
    {
      "cell_type": "markdown",
      "source": [
        "5. What is the value of spam[:2]?\n",
        "\n",
        "['a', 'b']"
      ],
      "metadata": {
        "id": "Wq-lWstzzf3u"
      }
    },
    {
      "cell_type": "markdown",
      "source": [
        "6. What is the value of bacon.index('cat')?\n",
        "\n",
        "value will be 1"
      ],
      "metadata": {
        "id": "e3nwUeLp3rgo"
      }
    },
    {
      "cell_type": "markdown",
      "source": [
        "7. How does bacon.append(99) change the look of the list value in bacon?\n",
        "\n",
        "It will add 99 at the end of the list.\n",
        "\n",
        "[3.14, 'cat', 11,'cat', True, 99]"
      ],
      "metadata": {
        "id": "H3K8G5NJzf8w"
      }
    },
    {
      "cell_type": "markdown",
      "source": [
        "8. How does bacon.remove(&#39;cat&#39;) change the look of the list in bacon?\n",
        "\n",
        "it will remove first occurance of 'cat' from the list\n",
        "\n",
        "[3.14, 11,'cat', True, 99]"
      ],
      "metadata": {
        "id": "CMYzGEZmzgBd"
      }
    },
    {
      "cell_type": "markdown",
      "source": [
        "9. What are the list concatenation and list replication operators?\n",
        "\n",
        "'+' is concatenation and '*' is replication oprator"
      ],
      "metadata": {
        "id": "u32rJkgKzgEn"
      }
    },
    {
      "cell_type": "markdown",
      "source": [
        "10. What is difference between the list methods append() and insert()?\n",
        "\n",
        "append will add the member at the end of the list and insert can add at any perticular index"
      ],
      "metadata": {
        "id": "3u5KD8ngzgID"
      }
    },
    {
      "cell_type": "markdown",
      "source": [
        "11. What are the two methods for removing items from a list?\n",
        "\n",
        "1 remove()\n",
        "\n",
        "2 pop()"
      ],
      "metadata": {
        "id": "KdNdMabZzgLx"
      }
    },
    {
      "cell_type": "markdown",
      "source": [
        "12. Describe how list values and string values are identical.\n",
        "\n",
        "both are sequence.\n"
      ],
      "metadata": {
        "id": "6e1cXZQEzgPV"
      }
    },
    {
      "cell_type": "markdown",
      "source": [
        "13. What is the difference between tuples and lists?\n",
        "\n",
        "tuples are immutable and list are mutable."
      ],
      "metadata": {
        "id": "OKjKHXhPzgVl"
      }
    },
    {
      "cell_type": "markdown",
      "source": [
        "14. How do you type a tuple value that only contains the integer 42?\n",
        "\n",
        "t = (42)"
      ],
      "metadata": {
        "id": "VZyrOqWtzgbh"
      }
    },
    {
      "cell_type": "markdown",
      "source": [
        "15. How do you get a list value's tuple form? How do you get a tuple value's list form?\n",
        "\n",
        "l = [1,2] \n",
        "\n",
        "t = (1,2)\n",
        "\n",
        "*   list to tuple -> tuple(l)\n",
        "    \n",
        "*   tuple to list -> list(t)"
      ],
      "metadata": {
        "id": "xFg2V2eAzget"
      }
    },
    {
      "cell_type": "markdown",
      "source": [
        "16. Variables that \"contain\" list values are not necessarily lists themselves. Instead, what do they\n",
        "contain?\n",
        "\n",
        "They are refrances to list values"
      ],
      "metadata": {
        "id": "DMJCqXf6zghy"
      }
    },
    {
      "cell_type": "markdown",
      "source": [
        "17. How do you distinguish between copy.copy() and copy.deepcopy()?\n",
        "\n",
        "copy.copy() will create reference to original object. if any changes made in copy object will reflect in original object.\n",
        "\n",
        "where as in copy.deepcopy() copy of object is copied in other object. if any changes made in copy object will not afect original object."
      ],
      "metadata": {
        "id": "NjAeGWRzzgla"
      }
    }
  ]
}