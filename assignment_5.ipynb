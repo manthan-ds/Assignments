{
  "nbformat": 4,
  "nbformat_minor": 0,
  "metadata": {
    "colab": {
      "provenance": [],
      "collapsed_sections": []
    },
    "kernelspec": {
      "name": "python3",
      "display_name": "Python 3"
    },
    "language_info": {
      "name": "python"
    }
  },
  "cells": [
    {
      "cell_type": "markdown",
      "source": [
        "1. What does an empty dictionary's code look like?\n",
        "\n",
        "d = {}"
      ],
      "metadata": {
        "id": "tI5a2KvV1GmE"
      }
    },
    {
      "cell_type": "markdown",
      "source": [
        "2. What is the value of a dictionary value with the key 'foo' and the value 42?\n",
        "\n",
        "m = {'foo':42}\n"
      ],
      "metadata": {
        "id": "Q-9JdTQC1G5S"
      }
    },
    {
      "cell_type": "markdown",
      "source": [
        "3. What is the most significant distinction between a dictionary and a list?\n",
        "\n",
        "dictionary requires key and value pair where as list doesn't."
      ],
      "metadata": {
        "id": "1IF_l-kX1G9h"
      }
    },
    {
      "cell_type": "markdown",
      "source": [
        "4. What happens if you try to access spam['foo'] if spam is {'bar': 100}?\n",
        "\n",
        "it will show key error."
      ],
      "metadata": {
        "id": "x7vmV5er1HEf"
      }
    },
    {
      "cell_type": "markdown",
      "source": [
        "5. If a dictionary is stored in spam, what is the difference between the expressions 'cat' in spam and 'cat' in spam.keys()?\n",
        "\n",
        "in spam it shows value of the key as well. But in spam.keys() it only shows list of all keys."
      ],
      "metadata": {
        "id": "RDvIlsQ61HJQ"
      }
    },
    {
      "cell_type": "markdown",
      "source": [
        "6. If a dictionary is stored in spam, what is the difference between the expressions 'cat' in spam and 'cat' in spam.values()?\n",
        "\n",
        "in spam it shows value and key both. But in spam.values() it only shows list of all values not any key."
      ],
      "metadata": {
        "id": "qvFPvvLd1HPV"
      }
    },
    {
      "cell_type": "markdown",
      "source": [
        "7. What is a shortcut for the following code?\n",
        "\n",
        "if 'color' not in spam:\n",
        "\n",
        "> spam['color'] = 'black'\n",
        "\n",
        "Answer\n",
        "\n",
        "spam.setdefault('color', 'black')"
      ],
      "metadata": {
        "id": "2gOWjJDk6x6M"
      }
    },
    {
      "cell_type": "markdown",
      "source": [
        "8. How do you \"pretty print\" dictionary values using which module and function?\n",
        "\n",
        "it can be done using pprint modeule and fucntion pprint()"
      ],
      "metadata": {
        "id": "X5r39Jo4E4jZ"
      }
    }
  ]
}