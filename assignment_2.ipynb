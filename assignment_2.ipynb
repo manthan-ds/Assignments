{
  "nbformat": 4,
  "nbformat_minor": 0,
  "metadata": {
    "colab": {
      "name": "assignment_2.ipynb",
      "provenance": [],
      "collapsed_sections": []
    },
    "kernelspec": {
      "name": "python3",
      "display_name": "Python 3"
    },
    "language_info": {
      "name": "python"
    }
  },
  "cells": [
    {
      "cell_type": "markdown",
      "source": [
        "1.What are the two values of the Boolean data type? How do you write them?"
      ],
      "metadata": {
        "id": "rPtahalwCIEX"
      }
    },
    {
      "cell_type": "markdown",
      "source": [
        "1. True\n",
        "2. False"
      ],
      "metadata": {
        "id": "x6kVR5V6CIQv"
      }
    },
    {
      "cell_type": "markdown",
      "source": [
        "2. What are the three different types of Boolean operators?"
      ],
      "metadata": {
        "id": "H--VaMO2CIZR"
      }
    },
    {
      "cell_type": "markdown",
      "source": [
        "1. AND\n",
        "2. OR\n",
        "3. NOT"
      ],
      "metadata": {
        "id": "9b3KwfAeCIdl"
      }
    },
    {
      "cell_type": "markdown",
      "source": [
        "3. Make a list of each Boolean operators truth tables (i.e. every possible combination of Boolean\n",
        "values for the operator and what it evaluate)."
      ],
      "metadata": {
        "id": "QV2HkBlQCIhz"
      }
    },
    {
      "cell_type": "markdown",
      "source": [
        "    x1  x2  AND   OR\n",
        "    0   0    0    0\n",
        "    0   1    0    1\n",
        "    1   0    0    1\n",
        "    1   1    1    1\n",
        "\n",
        "--------------------------------------------------------------------------------\n",
        "    x   NOT\n",
        "    0   1\n",
        "    1   0"
      ],
      "metadata": {
        "id": "n4P5oeDHCImh"
      }
    },
    {
      "cell_type": "markdown",
      "source": [
        "  4. What are the values of the following expressions?\n",
        "\n",
        "  (5 > 4) and (3 == 5)\n",
        "\n",
        "  not (5 > 4)\n",
        "\n",
        "  (5 > 4) or (3 == 5)\n",
        "\n",
        "  not ((5 > 4) or (3 == 5))\n",
        "\n",
        "  (True and True) and (True == False)\n",
        "  \n",
        "  (not False) or (not True)"
      ],
      "metadata": {
        "id": "q9kSUNcOCIta"
      }
    },
    {
      "cell_type": "markdown",
      "source": [
        "1. False\n",
        "2. False\n",
        "3. True\n",
        "4. False\n",
        "5. False\n",
        "6. True"
      ],
      "metadata": {
        "id": "oqfNoVxwCIx7"
      }
    },
    {
      "cell_type": "markdown",
      "source": [
        "5. What are the six comparison operators?"
      ],
      "metadata": {
        "id": "eXjuhp4xCI1h"
      }
    },
    {
      "cell_type": "markdown",
      "source": [
        "    >\n",
        "    <\n",
        "    ==\n",
        "    !=\n",
        "    >=\n",
        "    <="
      ],
      "metadata": {
        "id": "t7LoC49xCI6Z"
      }
    },
    {
      "cell_type": "markdown",
      "source": [
        "6. How do you tell the difference between the equal to and assignment operators?Describe a\n",
        "condition and when you would use one."
      ],
      "metadata": {
        "id": "ljjnYjarCI-f"
      }
    },
    {
      "cell_type": "markdown",
      "source": [
        "    Assignment => To assign any value to oprator\n",
        "\n",
        "    For ex. a = 10\n",
        "\n",
        "    Equal to => To compare Two values\n",
        "\n",
        "    For ex. a = 10\n",
        "            b = 10\n",
        "\n",
        "            a == b"
      ],
      "metadata": {
        "id": "W7PGjdgqCJCx"
      }
    },
    {
      "cell_type": "markdown",
      "source": [
        "7. Identify the three blocks in this code:\n",
        "\n",
        "spam = 0\n",
        "\n",
        "if spam == 10:\n",
        "\n",
        "print('eggs')\n",
        "\n",
        "if spam > 5:\n",
        "\n",
        "print('bacon')\n",
        "\n",
        "else:\n",
        "\n",
        "print('ham')\n",
        "\n",
        "print('spam')\n",
        "\n",
        "print('spam')"
      ],
      "metadata": {
        "id": "H2kFXlxwCJGy"
      }
    },
    {
      "cell_type": "code",
      "source": [
        "spam = 0\n",
        "\n",
        "# Block-1\n",
        "\n",
        "if spam == 10:\n",
        "\n",
        "  print('eggs')\n",
        "\n",
        "# Block-2\n",
        "\n",
        "if spam > 5:\n",
        "\n",
        "  print('bacon')\n",
        "\n",
        "else:\n",
        "\n",
        "  print('ham')\n",
        "\n",
        "# Block-3\n",
        "\n",
        "print('spam')\n",
        "\n",
        "print('spam')"
      ],
      "metadata": {
        "colab": {
          "base_uri": "https://localhost:8080/"
        },
        "id": "LvjFMPL2sLDc",
        "outputId": "4163a481-2093-4035-c2a0-7c8df835ab26"
      },
      "execution_count": 1,
      "outputs": [
        {
          "output_type": "stream",
          "name": "stdout",
          "text": [
            "ham\n",
            "spam\n",
            "spam\n"
          ]
        }
      ]
    },
    {
      "cell_type": "markdown",
      "source": [
        "8. Write code that prints Hello if 1 is stored in spam, prints Howdy if 2 is stored in spam, and prints\n",
        "Greetings! if anything else is stored in spam."
      ],
      "metadata": {
        "id": "zp96HTAJCJN5"
      }
    },
    {
      "cell_type": "code",
      "source": [
        "spam = 1\n",
        "\n",
        "if spam == 1 :\n",
        "  print('Hello')\n",
        "\n",
        "elif spam == 2:\n",
        "  print('Howdy')\n",
        "\n",
        "else : \n",
        "  print('Greetings!')"
      ],
      "metadata": {
        "colab": {
          "base_uri": "https://localhost:8080/"
        },
        "id": "WUxTY8_csaue",
        "outputId": "d391b13c-53b4-4706-a018-921b718916d5"
      },
      "execution_count": null,
      "outputs": [
        {
          "output_type": "stream",
          "name": "stdout",
          "text": [
            "Hello\n"
          ]
        }
      ]
    },
    {
      "cell_type": "markdown",
      "source": [
        "9.If your programme is stuck in an endless loop, what keys you’ll press?"
      ],
      "metadata": {
        "id": "PH_fxQKtteaI"
      }
    },
    {
      "cell_type": "markdown",
      "source": [
        "I will Inturrupt the kernal by pressing stop or I will press Ctrl + C"
      ],
      "metadata": {
        "id": "w2xlJNhQtjqz"
      }
    },
    {
      "cell_type": "markdown",
      "source": [
        "10. How can you tell the difference between break and continue?"
      ],
      "metadata": {
        "id": "zUkfF3yKveQL"
      }
    },
    {
      "cell_type": "code",
      "source": [
        "for i in range(10) : \n",
        "\n",
        "  if i == 4 :\n",
        "    continue \n",
        "    print('It will not get print')\n",
        "  \n",
        "  if i == 5 :\n",
        "    print('loop got break at :',i)\n",
        "    break\n",
        "  \n",
        "  else :\n",
        "    print(i)\n"
      ],
      "metadata": {
        "colab": {
          "base_uri": "https://localhost:8080/"
        },
        "id": "KPAHGW--vovi",
        "outputId": "ae343d14-c228-4a6e-f6f5-42027c753325"
      },
      "execution_count": null,
      "outputs": [
        {
          "output_type": "stream",
          "name": "stdout",
          "text": [
            "0\n",
            "1\n",
            "2\n",
            "3\n",
            "loop got break at : 5\n"
          ]
        }
      ]
    },
    {
      "cell_type": "markdown",
      "source": [
        "    Break -> It will exit the loop\n",
        "    continue -> It will ignore whatever below it or it will give control \n",
        "                to the begining of loop"
      ],
      "metadata": {
        "id": "K6l5ijHjwop5"
      }
    },
    {
      "cell_type": "markdown",
      "source": [
        "11. In a for loop, what is the difference between range(10), range(0, 10), and range(0, 10, 1)?"
      ],
      "metadata": {
        "id": "BDHbLW69ve6g"
      }
    },
    {
      "cell_type": "code",
      "source": [
        "# It will exclude 10 and print 0 to 9\n",
        "for i in range(10) :\n",
        "   print(i)\n",
        "\n",
        "print('\\n')\n",
        "\n",
        "# It will start from 0, exclude 10 and print 0 to 9\n",
        "for i in range(0, 10) :\n",
        "  print(i)\n",
        "\n",
        "print('\\n')\n",
        "\n",
        "# It will start from 0, exclude 10, jump 1 and print 0 to 9\n",
        "for i in range(0, 10, 1) :\n",
        "  print(i)"
      ],
      "metadata": {
        "colab": {
          "base_uri": "https://localhost:8080/"
        },
        "id": "MnO5GmIjxmhg",
        "outputId": "9d0c4fba-1dba-414e-ebf0-b9820280e651"
      },
      "execution_count": null,
      "outputs": [
        {
          "output_type": "stream",
          "name": "stdout",
          "text": [
            "0\n",
            "1\n",
            "2\n",
            "3\n",
            "4\n",
            "5\n",
            "6\n",
            "7\n",
            "8\n",
            "9\n",
            "\n",
            "\n",
            "0\n",
            "1\n",
            "2\n",
            "3\n",
            "4\n",
            "5\n",
            "6\n",
            "7\n",
            "8\n",
            "9\n",
            "\n",
            "\n",
            "0\n",
            "1\n",
            "2\n",
            "3\n",
            "4\n",
            "5\n",
            "6\n",
            "7\n",
            "8\n",
            "9\n"
          ]
        }
      ]
    },
    {
      "cell_type": "markdown",
      "source": [
        "12. Write a short program that prints the numbers 1 to 10 using a for loop. Then write an equivalent\n",
        "program that prints the numbers 1 to 10 using a while loop."
      ],
      "metadata": {
        "id": "1_5FAywKxjjZ"
      }
    },
    {
      "cell_type": "code",
      "source": [
        "print('Using For loop\\n')\n",
        "\n",
        "for i in range(1,11) :\n",
        "  print(i)\n",
        "\n",
        "print('\\nusing While loop\\n')\n",
        "i = 1 \n",
        "\n",
        "while(i < 11) :\n",
        "  print(i)\n",
        "  i = i+1"
      ],
      "metadata": {
        "colab": {
          "base_uri": "https://localhost:8080/"
        },
        "id": "8T8OezuyzC7A",
        "outputId": "51827a8b-d355-4ed8-c799-f992ddab4ff1"
      },
      "execution_count": null,
      "outputs": [
        {
          "output_type": "stream",
          "name": "stdout",
          "text": [
            "Using For loop\n",
            "\n",
            "1\n",
            "2\n",
            "3\n",
            "4\n",
            "5\n",
            "6\n",
            "7\n",
            "8\n",
            "9\n",
            "10\n",
            "\n",
            "using While loop\n",
            "\n",
            "1\n",
            "2\n",
            "3\n",
            "4\n",
            "5\n",
            "6\n",
            "7\n",
            "8\n",
            "9\n",
            "10\n"
          ]
        }
      ]
    },
    {
      "cell_type": "markdown",
      "source": [
        "13. If you had a function named bacon() inside a module named spam, how would you call it after\n",
        "importing spam?"
      ],
      "metadata": {
        "id": "MNzPoNxcvfHk"
      }
    },
    {
      "cell_type": "markdown",
      "source": [
        "spam.bacon()"
      ],
      "metadata": {
        "id": "_uPcLq870rEs"
      }
    }
  ]
}